{
 "cells": [
  {
   "cell_type": "code",
   "execution_count": 1,
   "id": "71ddfcc6-3a00-426a-9070-68590c692524",
   "metadata": {},
   "outputs": [
    {
     "ename": "ModuleNotFoundError",
     "evalue": "No module named 'scipy'",
     "output_type": "error",
     "traceback": [
      "\u001b[31m---------------------------------------------------------------------------\u001b[39m",
      "\u001b[31mModuleNotFoundError\u001b[39m                       Traceback (most recent call last)",
      "\u001b[36mCell\u001b[39m\u001b[36m \u001b[39m\u001b[32mIn[1]\u001b[39m\u001b[32m, line 5\u001b[39m\n\u001b[32m      3\u001b[39m \u001b[38;5;28;01mimport\u001b[39;00m\u001b[38;5;250m \u001b[39m\u001b[34;01mseaborn\u001b[39;00m\u001b[38;5;250m \u001b[39m\u001b[38;5;28;01mas\u001b[39;00m\u001b[38;5;250m \u001b[39m\u001b[34;01msns\u001b[39;00m\n\u001b[32m      4\u001b[39m \u001b[38;5;28;01mimport\u001b[39;00m\u001b[38;5;250m \u001b[39m\u001b[34;01mnumpy\u001b[39;00m\u001b[38;5;250m \u001b[39m\u001b[38;5;28;01mas\u001b[39;00m\u001b[38;5;250m \u001b[39m\u001b[34;01mnp\u001b[39;00m\n\u001b[32m----> \u001b[39m\u001b[32m5\u001b[39m \u001b[38;5;28;01mfrom\u001b[39;00m\u001b[38;5;250m \u001b[39m\u001b[34;01mscipy\u001b[39;00m\u001b[34;01m.\u001b[39;00m\u001b[34;01mstats\u001b[39;00m\u001b[38;5;250m \u001b[39m\u001b[38;5;28;01mimport\u001b[39;00m gaussian_kde\n\u001b[32m      6\u001b[39m df = pd.read_csv(\u001b[33m'\u001b[39m\u001b[33mvehicles_usa.csv\u001b[39m\u001b[33m'\u001b[39m)\n",
      "\u001b[31mModuleNotFoundError\u001b[39m: No module named 'scipy'"
     ]
    }
   ],
   "source": [
    "import pandas as pd\n",
    "import matplotlib.pyplot as plt\n",
    "import seaborn as sns\n",
    "import numpy as np\n",
    "from scipy.stats import gaussian_kde\n",
    "df = pd.read_csv('vehicles_usa.csv')\n"
   ]
  },
  {
   "cell_type": "code",
   "execution_count": null,
   "id": "10d633da-4693-4b10-b374-99ad3a9cdb28",
   "metadata": {},
   "outputs": [],
   "source": [
    "df = pd.read_csv('vehicles_usa.csv')\n",
    "df.head() \n"
   ]
  },
  {
   "cell_type": "code",
   "execution_count": null,
   "id": "7e1c1af1-03ad-45b2-a39c-5cfc1b2eef97",
   "metadata": {},
   "outputs": [],
   "source": [
    "len(df)"
   ]
  },
  {
   "cell_type": "code",
   "execution_count": null,
   "id": "891c6e8e-4268-48d7-b6a5-16734e6fd2de",
   "metadata": {},
   "outputs": [],
   "source": [
    "df = df.drop(['title_status','lot', 'vin','country'],axis=1)\n",
    "df.columns=['ID','Preu','Marca','Model','Any','Km','Color','Estat','Condició']"
   ]
  },
  {
   "cell_type": "code",
   "execution_count": null,
   "id": "b7dd0965-615b-476c-b6f5-f1bfea0bf008",
   "metadata": {},
   "outputs": [],
   "source": [
    "df.head() "
   ]
  },
  {
   "cell_type": "code",
   "execution_count": null,
   "id": "61c41743-a1f2-4303-85d4-602953c12875",
   "metadata": {},
   "outputs": [],
   "source": [
    "#OBJECTIU: Veure com es reparteixen els preus dels cotxes.\n",
    "preus = df[\"Preu\"].dropna()\n",
    "\n",
    "# Calculamos la densidad (curva de probabilidad)\n",
    "densidad = gaussian_kde(preus)\n",
    "x = np.linspace(preus.min(), preus.max(), 500)\n",
    "y = densidad(x)\n",
    "\n",
    "# Creamos el gráfico tipo \"onda\"\n",
    "plt.figure(figsize=(10,5))\n",
    "plt.plot(x, y, color=\"tab:blue\", linewidth=2)\n",
    "plt.fill_between(x, y, color=\"skyblue\", alpha=0.3)\n",
    "\n",
    "plt.title(\"Ona de Distribució dels Preus\", fontsize=14)\n",
    "plt.xlabel(\"Preu (€)\")\n",
    "plt.ylabel(\"freqüència\")\n",
    "plt.grid(alpha=0.3)\n",
    "plt.tight_layout()\n",
    "plt.show()"
   ]
  },
  {
   "cell_type": "code",
   "execution_count": null,
   "id": "0eb56c09-a544-474a-ac12-d3d4e5670901",
   "metadata": {},
   "outputs": [],
   "source": [
    "#OBJECTIU: Veure quines marques son mes frequens\n",
    "df[\"Marca\"].value_counts().plot(kind=\"bar\", title=\"Nombre de cotxes per Marca\")\n",
    "plt.show()"
   ]
  },
  {
   "cell_type": "code",
   "execution_count": null,
   "id": "949871c2-07ec-470c-8f50-8e36737efdc1",
   "metadata": {},
   "outputs": [],
   "source": [
    "#OBJECTIU: Veure el color més comú\n",
    "df[\"Color\"].value_counts().plot(kind=\"bar\", title=\"Colors més comuns\")\n",
    "plt.show()"
   ]
  },
  {
   "cell_type": "code",
   "execution_count": null,
   "id": "80d035d4-de72-48dc-bda3-e71f0f7de759",
   "metadata": {},
   "outputs": [],
   "source": [
    "#OBJECTIU: Veure els estats on es venen més cotxes.\n",
    "# Comptem els estats\n",
    "estats_counts = df[\"Estat\"].value_counts().head(10)\n",
    "\n",
    "# Creem una paleta de colors variats\n",
    "colors = plt.cm.tab10(np.linspace(0, 1, len(estats_counts)))\n",
    "\n",
    "# Gràfic amb colors personalitzats\n",
    "estats_counts.plot(kind=\"bar\", color=colors, title=\"Top 10 Estats amb més cotxes\")\n",
    "\n",
    "plt.xlabel(\"Estat\")\n",
    "plt.ylabel(\"Nombre de cotxes\")\n",
    "plt.grid(axis=\"y\", alpha=0.3)\n",
    "plt.tight_layout()\n",
    "plt.show()"
   ]
  },
  {
   "cell_type": "code",
   "execution_count": null,
   "id": "2cf2a17b-7385-4c69-96b4-b0153888fea8",
   "metadata": {},
   "outputs": [],
   "source": [
    "#OBJECTIU: Analitzar si els cotxes més nous valen més.\n",
    "preu_any = df.groupby(\"Any\")[\"Preu\"].mean()\n",
    "\n",
    "plt.figure(figsize=(8,5))\n",
    "plt.plot(preu_any.index, preu_any.values, marker=\"o\", color=\"tab:orange\")\n",
    "plt.title(\"Evolució del Preu mitjà per Any del Cotxe\")\n",
    "plt.xlabel(\"Any\")\n",
    "plt.ylabel(\"Preu mitjà (€)\")\n",
    "plt.grid(alpha=0.3)\n",
    "plt.tight_layout()\n",
    "plt.show()"
   ]
  },
  {
   "cell_type": "code",
   "execution_count": null,
   "id": "1495e9ef-e3aa-43c5-ab23-1886d87c42da",
   "metadata": {},
   "outputs": [],
   "source": []
  },
  {
   "cell_type": "code",
   "execution_count": null,
   "id": "00ec6618-92c6-4b53-a77a-06e065080948",
   "metadata": {},
   "outputs": [],
   "source": []
  },
  {
   "cell_type": "code",
   "execution_count": null,
   "id": "df1894dc-6126-49e3-8c79-2e12cb78eb78",
   "metadata": {},
   "outputs": [],
   "source": []
  },
  {
   "cell_type": "code",
   "execution_count": null,
   "id": "e84bf063-f8b7-4c31-998b-a00ce99a92b9",
   "metadata": {},
   "outputs": [],
   "source": []
  },
  {
   "cell_type": "code",
   "execution_count": null,
   "id": "6783a003-eab2-432a-af55-63fcaaf6b09b",
   "metadata": {},
   "outputs": [],
   "source": []
  },
  {
   "cell_type": "code",
   "execution_count": null,
   "id": "e77fc1fc-d799-4ec7-bc66-abe4f2080a9c",
   "metadata": {},
   "outputs": [],
   "source": []
  },
  {
   "cell_type": "code",
   "execution_count": null,
   "id": "f5c8178b-64e4-407a-8604-8f84bec1ca89",
   "metadata": {},
   "outputs": [],
   "source": []
  },
  {
   "cell_type": "code",
   "execution_count": null,
   "id": "92c38b0c-d5b7-4d36-9043-6cb7e32005a3",
   "metadata": {},
   "outputs": [],
   "source": []
  },
  {
   "cell_type": "code",
   "execution_count": null,
   "id": "3ca4501a-1e27-40a9-97ea-bb5a9043db7e",
   "metadata": {},
   "outputs": [],
   "source": []
  },
  {
   "cell_type": "code",
   "execution_count": null,
   "id": "7a785cae-c80b-4bf4-842d-43c8abf4f300",
   "metadata": {},
   "outputs": [],
   "source": []
  }
 ],
 "metadata": {
  "kernelspec": {
   "display_name": "Python 3 (ipykernel)",
   "language": "python",
   "name": "python3"
  },
  "language_info": {
   "codemirror_mode": {
    "name": "ipython",
    "version": 3
   },
   "file_extension": ".py",
   "mimetype": "text/x-python",
   "name": "python",
   "nbconvert_exporter": "python",
   "pygments_lexer": "ipython3",
   "version": "3.12.7"
  }
 },
 "nbformat": 4,
 "nbformat_minor": 5
}
