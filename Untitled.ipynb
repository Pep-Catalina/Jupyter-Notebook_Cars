{
 "cells": [
  {
   "cell_type": "code",
   "execution_count": null,
   "id": "6d948b14-1e1b-4dc4-bf2d-64cf230e6b5b",
   "metadata": {},
   "outputs": [],
   "source": []
  }
 ],
 "metadata": {
  "kernelspec": {
   "display_name": "",
   "name": ""
  },
  "language_info": {
   "name": ""
  }
 },
 "nbformat": 4,
 "nbformat_minor": 5
}
