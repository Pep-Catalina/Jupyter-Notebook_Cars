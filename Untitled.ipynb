{
 "cells": [
  {
   "cell_type": "raw",
   "id": "d76ee741-900d-48ac-b9af-4ca5192397e2",
   "metadata": {},
   "source": [
    "Magic function"
   ]
  },
  {
   "cell_type": "code",
   "execution_count": null,
   "id": "587ab6e5-8fbc-44d3-a9c7-2a7274b60563",
   "metadata": {},
   "outputs": [],
   "source": [
    "%matplotlib inline"
   ]
  },
  {
   "cell_type": "code",
   "execution_count": null,
   "id": "3131130a-a768-405a-8d2b-f577efbd63d0",
   "metadata": {},
   "outputs": [],
   "source": [
    "Importar biblioteques"
   ]
  },
  {
   "cell_type": "code",
   "execution_count": null,
   "id": "7f2ef936-9aae-460b-b0d2-cda844db411f",
   "metadata": {},
   "outputs": [],
   "source": [
    "import pandas as pd\n",
    "import matplotlib.pyplot as plt\n",
    "import seaborn as sns"
   ]
  },
  {
   "cell_type": "code",
   "execution_count": null,
   "id": "a0ffc8d0-9983-4d65-a7f1-25e9812d5fbb",
   "metadata": {},
   "outputs": [],
   "source": [
    "Establir estil/format de seaborn"
   ]
  },
  {
   "cell_type": "code",
   "execution_count": null,
   "id": "c0d736fb-71ed-4a00-b3b0-532e2223e44c",
   "metadata": {},
   "outputs": [],
   "source": [
    "sns.set(style=\"darkgrid\")"
   ]
  },
  {
   "cell_type": "code",
   "execution_count": null,
   "id": "9e43c54c-32f8-45a6-b31f-715927c2a52c",
   "metadata": {},
   "outputs": [],
   "source": [
    "Declarar variable amb el csv"
   ]
  },
  {
   "cell_type": "code",
   "execution_count": null,
   "id": "460deed1-06f1-4074-a9df-4c941d3056da",
   "metadata": {},
   "outputs": [],
   "source": [
    "df = pd.read_csv('vehicles.csv')"
   ]
  },
  {
   "cell_type": "code",
   "execution_count": null,
   "id": "fce3743e-4f64-47cb-a05d-f6655d137390",
   "metadata": {},
   "outputs": [],
   "source": [
    "Llegir les 5 primeres línies"
   ]
  },
  {
   "cell_type": "code",
   "execution_count": null,
   "id": "f46a4804-e889-4bea-abda-07283c354d80",
   "metadata": {},
   "outputs": [],
   "source": [
    "df.head()"
   ]
  },
  {
   "cell_type": "code",
   "execution_count": null,
   "id": "3e11f3cd-7057-47a0-99e8-f3ed994d4845",
   "metadata": {},
   "outputs": [],
   "source": []
  },
  {
   "cell_type": "code",
   "execution_count": null,
   "id": "e3b08a74-a199-4f71-8814-a5d1d04d8622",
   "metadata": {},
   "outputs": [],
   "source": []
  }
 ],
 "metadata": {
  "kernelspec": {
   "display_name": "Python 3 (ipykernel)",
   "language": "python",
   "name": "python3"
  },
  "language_info": {
   "codemirror_mode": {
    "name": "ipython",
    "version": 3
   },
   "file_extension": ".py",
   "mimetype": "text/x-python",
   "name": "python",
   "nbconvert_exporter": "python",
   "pygments_lexer": "ipython3",
   "version": "3.12.7"
  }
 },
 "nbformat": 4,
 "nbformat_minor": 5
}
